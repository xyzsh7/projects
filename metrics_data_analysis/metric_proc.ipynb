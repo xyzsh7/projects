{
 "cells": [
  {
   "cell_type": "code",
   "execution_count": null,
   "metadata": {},
   "outputs": [],
   "source": [
    "import os, glob\n",
    "import pandas as pd\n",
    "import numpy as np\n",
    "import datetime, re\n",
    "import seaborn as sns\n",
    "import matplotlib.pyplot as plt"
   ]
  },
  {
   "cell_type": "markdown",
   "metadata": {},
   "source": [
    "## Append output files into four main files"
   ]
  },
  {
   "cell_type": "code",
   "execution_count": null,
   "metadata": {},
   "outputs": [],
   "source": [
    "#append all output data into 4 data frames\n",
    "exphis,opehis,acchis,inshis = pd.DataFrame(), pd.DataFrame(), pd.DataFrame(), pd.DataFrame()\n",
    "def com(exp,ope,acc,ins):\n",
    "    for name in glob.glob('*-output.xlsx'):\n",
    "        for sheet_name, df in pd.read_excel(name,sheet_name=None,engine='openpyxl').items():\n",
    "            df = df.replace('ANON',name[:2], regex=True)\n",
    "            if sheet_name == 'ExperimentHistory':\n",
    "                cols = ['ExperimentId', 'ExperimentName', 'StartTime', 'EndTime', 'Source', \n",
    "                        'HostAddress', 'User', 'Project', 'Application', 'ApplicationVersion', \n",
    "                        'InstrumentType', 'InstrumentSerialNumber','Size', 'ReactorPosition']\n",
    "                exp = pd.concat([exp,df[cols]], ignore_index=True)\n",
    "            elif sheet_name == 'OperationHistory':\n",
    "                ope = pd.concat([ope,df], ignore_index=True)\n",
    "            elif sheet_name == 'AccessoryHistory':\n",
    "                acc = pd.concat([acc,df], ignore_index=True)\n",
    "            elif sheet_name == 'Instruments':\n",
    "                ins = pd.concat([ins,df], ignore_index=True)\n",
    "    return exp,ope,acc,ins\n",
    "exphis,opehis,acchis,inshis = com(exphis,opehis,acchis,inshis)"
   ]
  },
  {
   "cell_type": "code",
   "execution_count": null,
   "metadata": {},
   "outputs": [],
   "source": [
    "exphis.info()"
   ]
  },
  {
   "cell_type": "markdown",
   "metadata": {},
   "source": [
    "### Experiment History"
   ]
  },
  {
   "cell_type": "code",
   "execution_count": null,
   "metadata": {},
   "outputs": [],
   "source": [
    "#info check\n",
    "#exphis.info()\n",
    "#df.info()\n",
    "#exphis.head()"
   ]
  },
  {
   "cell_type": "code",
   "execution_count": null,
   "metadata": {},
   "outputs": [],
   "source": [
    "def tidy_exphis(exphis_df):\n",
    "    df = exphis_df.copy()\n",
    "    df[['StartTime','EndTime']] = df[['StartTime','EndTime']].astype('datetime64[ns]')\n",
    "    df = df.fillna(value = {'Application':'Touchscreen'})\n",
    "    df = df[df['Application'] != 'icontrol labmax'] #filter out incontrol labmax\n",
    "    # keep the 5 year record\n",
    "    con = (df['StartTime'].dt.year >= 2018) & (df['StartTime'].dt.year <= (2018 + 5)) \n",
    "    df = df[con].sort_values(by = 'ExperimentId').reset_index(drop=True) \n",
    "\n",
    "    #rename User, Project, SerialNumber columns\n",
    "    df['User'] = df['User'].fillna(df['ExperimentId'].str[0:2]+'-User' + '-Unknown') \n",
    "    df['Project'] = df['Project'].fillna(df['ExperimentId'].str[0:2]+'-Project' + '-Unknown')\n",
    "    df['InstrumentSerialNumber'] = df['InstrumentSerialNumber'].fillna(df['ExperimentId'].str[0:2]+'-'+df['Application']+'-Unknown')\n",
    "    df['Application'] = df['Application'].str.upper() #uppercase the application column #change to uppercase\n",
    "    df['CompanyName'] = df['ExperimentId'].str[0:2]\n",
    "\n",
    "    #create new columns: startyear, expduration, startday, endday, newuser,overnight, validity\n",
    "    df['StartYear'] = df['StartTime'].dt.year #get start year\n",
    "    df['Exp_durationinMin'] = (df['EndTime'] - df['StartTime']).apply(lambda x: x.total_seconds()/60) # turn it into minutes\n",
    "    #df['Exp_durationinHr'] = (df['EndTime'] - df['StartTime']).apply(lambda x: x.total_seconds()/360) # turn it into minutes\n",
    "    df['StartDay'] = df['StartTime'].dt.strftime('%a') #get day of the week\n",
    "    df['EndDay'] = df['EndTime'].dt.strftime('%a') # get day of the week\n",
    "\n",
    "    con = df['StartTime'].dt.date < df['EndTime'].dt.date\n",
    "    df['Overnight'] = [1 if i == True else 0 for i in con if pd.notnull(i)] # add overnight column\n",
    "    df['Validity'] = [1 if i == True else 0 for i in df['Exp_durationinMin'] > 5 if pd.notnull(i)] #add validity column\n",
    "\n",
    "    #how many times of a user appeared in a given year: merge frequency\n",
    "    userfreq = df[['User','StartYear']].value_counts().reset_index().rename(columns={0:'UserPerYear'})\n",
    "    df = df.merge(userfreq, on =['User','StartYear'],how='left')\n",
    "\n",
    "    # add user type column based of user appeared in a year: UserType\n",
    "    #df['UserType'] = ['Heavy' if i >= 50 else 'Rare' if i <=5 else 'NaN' if pd.isnull(i) else 'Moderate' for i in df['UserPerYear']]\n",
    "    df['UserType'] = ['Heavy' if i >= 50 else 'Rare' if i <=5 else  'Moderate' for i in df['UserPerYear'] if pd.notnull(i)]\n",
    "\n",
    "\n",
    "    # add experiment type based on time length of the experiment: ExperimentType\n",
    "    df['ExperimentType'] = ['Trash' if i < 5 \n",
    "                        else 'Short Experiment' if i < 60\n",
    "                        else 'Day Experiment' if i <480 \n",
    "                        else 'Overnight Experiment' if i <1800\n",
    "                        else 'Long Experiment' for i in df['Exp_durationinMin'] if pd.notnull(i) ]\n",
    "\n",
    "    # perform a pivot to get the each type of experiment that User has done\n",
    "    appusertype = df.pivot_table(values='ExperimentId',columns='Application',index=['User','StartYear'],fill_value=0,margins=True,aggfunc='count').reset_index() \n",
    "    appusertype['advanced_exp'] = appusertype['All'] - appusertype['TOUCHSCREEN'] - appusertype['ICONTROL']\n",
    "    \n",
    "    appusertype['AppuserType'] = ['TSonly' if x/y >= 0.9 else 'Adv' if z >=3 else 'Basic' \n",
    "                                    for x,y,z in zip(appusertype['TOUCHSCREEN'],appusertype['All'],appusertype['advanced_exp'])] \n",
    "    appusertype = appusertype[['User','StartYear','AppuserType']]\n",
    "   \n",
    "    df = pd.merge(df,appusertype, on=('User','StartYear'),how='left')\n",
    "    con = df[['User','StartYear']].duplicated(keep=False) #keep all duplicates ?\n",
    "    df['NewUser'] = ['Exped User' if i == True else 'New User' for i in con]\n",
    "    return df"
   ]
  },
  {
   "cell_type": "markdown",
   "metadata": {},
   "source": [
    "### Operation History"
   ]
  },
  {
   "cell_type": "code",
   "execution_count": null,
   "metadata": {},
   "outputs": [],
   "source": [
    "opstype = pd.read_csv('OperationType.csv')\n",
    "#dict = opstype.value_counts().reset_index().drop(columns=0)\n",
    "\n",
    "def tidy_opehis(opehis_df):\n",
    "    df = opehis_df.copy()\n",
    "    df['StartTime'] = pd.to_datetime(df['StartTime'], errors='coerce')\n",
    "    #[df['StartTime']=='9999-12-31 18:59:59.9999999'] #a few cols contains invalid dates\n",
    "    df = df[(df['StartTime'].dt.year >= 2018) & (df['StartTime'].dt.year <= (2018+5))]\n",
    "    df = df.merge(opstype,on='OperationType',how='left')\n",
    "    df['StartedOn'] = ['Touchscreen' if i == 1 else 'iControl' for i in df['StartedOnTouchScreen']]\n",
    "    return df"
   ]
  },
  {
   "cell_type": "markdown",
   "metadata": {},
   "source": [
    "### Call Functions"
   ]
  },
  {
   "cell_type": "code",
   "execution_count": null,
   "metadata": {},
   "outputs": [],
   "source": [
    "#call functions\n",
    "exphisfull = tidy_exphis(exphis)\n",
    "opehisfull = tidy_opehis(opehis)\n",
    "\n",
    "exphisfull.to_csv('combined_ExperimentHistory.csv')\n",
    "opehisfull.to_csv('combined_OperationHistory.csv')\n",
    "acchis.to_csv('cmobined_AccessoryHistory.csv')\n",
    "inshis.to_csv('combined_Instruments.csv')"
   ]
  },
  {
   "cell_type": "markdown",
   "metadata": {},
   "source": [
    "### User Experiences Profile"
   ]
  },
  {
   "cell_type": "code",
   "execution_count": null,
   "metadata": {},
   "outputs": [],
   "source": [
    "#### double check later for a better method, the first date of the exp in a year\n",
    "#### 1st exp and last exp of a specific by (adding a date column of when they did the exps (1st and last), company, user types)\n",
    " #duplicated user as experience user otherwise as new users ?\n",
    "userfreq = exphisfull[['User','NewUser','AppuserType','CompanyName','StartYear','StartTime','UserPerYear']]\n",
    "uf_grouped = userfreq.groupby(['User','NewUser','AppuserType','CompanyName','StartYear']).agg({'UserPerYear':sum,'StartTime':[np.min,np.max]})\n",
    "uf_grouped.columns = ['ExpDonePerYear','1stExp','LastExp'] #df.columns.map(''.format)\n",
    "uf_grouped = uf_grouped.reset_index()\n",
    "uf_grouped.to_csv('combined_UsersExperienceProfile.csv')\n",
    "#uf_grouped.head()"
   ]
  },
  {
   "cell_type": "markdown",
   "metadata": {},
   "source": [
    "### Overlap Experiments of iControl and EasyMax"
   ]
  },
  {
   "cell_type": "code",
   "execution_count": null,
   "metadata": {},
   "outputs": [],
   "source": [
    "sort_cols = ['InstrumentSerialNumber','User','StartTime','EndTime'] #always sorting using these four columns\n",
    "group_cols = ['InstrumentSerialNumber','User']\n",
    "\n",
    "#1. clean and remove non-duplicated entries\n",
    "easymax = exphisfull[exphisfull['Validity']==1][['InstrumentSerialNumber','CompanyName','InstrumentType','User','ExperimentName','ReactorPosition','StartTime','EndTime']]\n",
    "easymax = easymax.sort_values(sort_cols)\n",
    "easymax = easymax[easymax['InstrumentType'].str.contains(r'EasyMax')==True]\n",
    "easymax = easymax.dropna(subset=['ReactorPosition'])\n",
    "easymax = easymax[easymax[group_cols].duplicated(keep=False)]\n",
    "\n",
    "#2.get overlap experiments done by same user on two ReactorPositions: two locations, same user, same serial number\n",
    "tworpsexp = easymax[['InstrumentSerialNumber','User','ReactorPosition']].value_counts().to_frame('Counts')\n",
    "tworpsexp = tworpsexp.unstack('ReactorPosition').dropna()\n",
    "tworpsexp.columns = ['RP1','RP2']\n",
    "tworpsexp = tworpsexp.reset_index()[group_cols]\n",
    "f = tworpsexp.merge(easymax, on = group_cols)\n",
    "\n",
    "#3. find overlap experiments by shifting the start time and RP\n",
    "def overlap_experiments(df): \n",
    "    rpcon = df['ReactorPosition'].diff(periods=1) #condition comparing with previous row with a diff of 1\n",
    "    datecon = df['StartTime'].dt.date.diff(periods=1) \n",
    "    a = df[(rpcon == 1) & ((datecon =='0 days') | (datecon=='1 days'))]\n",
    "    b = df.loc[a.index-1]\n",
    "    c = pd.concat([a,b]).sort_values(sort_cols).reset_index(drop=True)\n",
    "    overlap = (c['StartTime'] >  c.groupby(group_cols)['EndTime'].shift()) #overlaps\n",
    "    overlap = pd.concat([c.iloc[c[overlap].index + 1],c[overlap]])\n",
    "    overlap = overlap.sort_values(sort_cols).reset_index(drop=True)\n",
    "    return overlap\n",
    "\n",
    "overlaps = overlap_experiments(f)\n",
    "overlaps.to_csv('combined_overlaps.csv')"
   ]
  },
  {
   "cell_type": "markdown",
   "metadata": {},
   "source": [
    "### Experiment Summary Table "
   ]
  },
  {
   "cell_type": "code",
   "execution_count": null,
   "metadata": {},
   "outputs": [],
   "source": [
    "def get_exp_summary(df):\n",
    "    df_valid = df[df['ExperimentName'].duplicated(keep=False) & df['Validity']==1]\n",
    "    df_pivot = df_valid.pivot_table(index=['ExperimentName','StartYear','CompanyName'],columns='Application',values='ExperimentId',aggfunc='count', margins=True, margins_name='Total').reset_index().rename_axis(None, axis=1)\n",
    "    df_pivot = df_pivot[df_pivot['Total'] < 10].reset_index(drop=True)\n",
    "    df_pivot['EasyMaxOverlap'] = df['ExperimentName'].isin(overlaps['ExperimentName'])\n",
    "    all_EM_exp = df[df['InstrumentType'].str.contains(r'EasyMax')==1]['ExperimentName'] #get all the exp names with EM\n",
    "    noneEM = df_pivot[~df_pivot['ExperimentName'].isin(all_EM_exp)].index\n",
    "    df_pivot.loc[noneEM,['EasyMaxOverlap']] = 'NaN' #update values: no exp on easy max -> null, overlap --> True, easy max exp but not overlap --> false\n",
    "    df_pivot.iloc[:,3:12] = df_pivot.iloc[:,3:12].notnull()\n",
    "    return df_pivot\n",
    "exp_summary = get_exp_summary(exphisfull)\n",
    "exp_summary.to_csv('combined_experiment_summary.csv')\n",
    "#exp_summary.head(20)"
   ]
  },
  {
   "cell_type": "code",
   "execution_count": null,
   "metadata": {},
   "outputs": [],
   "source": [
    "#spot check\n",
    "# df[df['ExperimentName']=='A1-ExperimentName-012-000731'][['InstrumentSerialNumber','CompanyName','InstrumentType','User','ExperimentName','ReactorPosition','StartTime','EndTime']]"
   ]
  },
  {
   "cell_type": "markdown",
   "metadata": {},
   "source": [
    "By SerialNumber and User, two reactor positions required for overlapping"
   ]
  },
  {
   "cell_type": "code",
   "execution_count": null,
   "metadata": {},
   "outputs": [],
   "source": [
    "#iControl and other exptype duplications\n",
    "dupexps = exphisfull.copy()\n",
    "dupexps['StartTime'] = dupexps['StartTime'].dt.strftime(\"%Y-%m-%d\")\n",
    "dupexps = dupexps[dupexps[['ExperimentName','User','StartTime']].duplicated(keep=False)] #find duplicates and keep all\n",
    "dupexps = dupexps.pivot_table(index='ExperimentName',columns='Application',values='ExperimentId',aggfunc='count').notnull()   #pivot by application and ExpName, and aff by count, pass table to check null\n",
    "dupexps = dupexps[dupexps['ICONTROL']==True] #keep duplicated exps with one is ICONTROL \n",
    "dupexps = dupexps.sum(axis=1).reset_index().rename(columns={0:'Count'}).query('Count > 1')['ExperimentName'] #get grand total, and query the ExpName row that has more than one none null value \n",
    "dupexps = exphisfull[exphisfull['ExperimentName'].isin(dupexps)].reset_index(drop=True) #subset the duplicated experiments\n",
    "easymaxdups = dupexps[dupexps['InstrumentType'].str.contains('EasyMax',na=False)].reset_index(drop=True).sort_values(['ExperimentId','ExperimentName']) #filter out non easymax experiments and save the information\n",
    "#easymaxdups.to_csv('combined_dupexps.csv')\n",
    "#easymaxdups[easymaxdups[['ExperimentName','User']].duplicated(keep=False)].sort_values('ExperimentName')[easymaxdups['Validity']==1]"
   ]
  }
 ],
 "metadata": {
  "kernelspec": {
   "display_name": "Python 3.7.9 64-bit",
   "language": "python",
   "name": "python3"
  },
  "language_info": {
   "codemirror_mode": {
    "name": "ipython",
    "version": 3
   },
   "file_extension": ".py",
   "mimetype": "text/x-python",
   "name": "python",
   "nbconvert_exporter": "python",
   "pygments_lexer": "ipython3",
   "version": "3.7.9"
  },
  "orig_nbformat": 4,
  "vscode": {
   "interpreter": {
    "hash": "5109d816b82be14675a6b11f8e0f0d2e80f029176ed3710d54e125caa8520dfd"
   }
  }
 },
 "nbformat": 4,
 "nbformat_minor": 2
}
